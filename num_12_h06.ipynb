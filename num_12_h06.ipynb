{
 "cells": [
  {
   "cell_type": "markdown",
   "id": "568b99c8-cd94-4479-8d11-1654f7afc13d",
   "metadata": {},
   "source": [
    "# A1)\n",
    "\n",
    "$ D = \\begin{bmatrix}\n",
    "2 & 0 & 0\\\\\n",
    "0 & 1 & 0\\\\\n",
    "0 & 0 & 2\n",
    "\\end{bmatrix},\\quad E = -\\begin{bmatrix}\n",
    "0 & 0 & 0\\\\\n",
    "0 & 0 & 0\\\\\n",
    "1 & 0 & 0\n",
    "\\end{bmatrix},\\quad F = -\\begin{bmatrix}\n",
    "0 & 0 & 1\\\\\n",
    "0 & 0 & 0\\\\\n",
    "0 & 0 & 0\n",
    "\\end{bmatrix},\\quad b = \\begin{pmatrix}4\\\\0\\\\5\\end{pmatrix} $\n",
    "\n",
    "## a)\n",
    "\n",
    "$ \\implies B = D^{-1}(E+F) = $\n",
    "\n"
   ]
  }
 ],
 "metadata": {
  "kernelspec": {
   "display_name": "Python 3 (ipykernel)",
   "language": "python",
   "name": "python3"
  },
  "language_info": {
   "codemirror_mode": {
    "name": "ipython",
    "version": 3
   },
   "file_extension": ".py",
   "mimetype": "text/x-python",
   "name": "python",
   "nbconvert_exporter": "python",
   "pygments_lexer": "ipython3",
   "version": "3.9.7"
  }
 },
 "nbformat": 4,
 "nbformat_minor": 5
}
