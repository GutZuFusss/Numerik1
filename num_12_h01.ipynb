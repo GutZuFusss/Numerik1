{
 "cells": [
  {
   "cell_type": "markdown",
   "id": "0c188f42-d635-40a7-97b1-d953eb69d4ec",
   "metadata": {},
   "source": [
    "# A1)\n",
    "First, we implement our two different *algorithms*."
   ]
  },
  {
   "cell_type": "code",
   "execution_count": 1,
   "id": "c97cbb06-7314-4e8c-8f62-3f84549adf12",
   "metadata": {},
   "outputs": [],
   "source": [
    "import math\n",
    "\n",
    "def alg1(p, q):\n",
    "    x1 = -p - math.sqrt(p**2 + q)\n",
    "    x2 = -p + math.sqrt(p**2 + q)\n",
    "    return (x1, x2)\n",
    "\n",
    "def alg2(p, q):\n",
    "    x1 = -p - math.sqrt(p**2 + q)\n",
    "    x2 = -q / x1\n",
    "    return (x1, x2)"
   ]
  },
  {
   "cell_type": "markdown",
   "id": "55093d52-0ae8-4457-b16a-d6ee6434c88c",
   "metadata": {},
   "source": [
    "After that, we test them by iterating over the given powers of $ 10 $."
   ]
  },
  {
   "cell_type": "code",
   "execution_count": 2,
   "id": "6bc3f1b6-2165-462e-90a4-6b69b6171caf",
   "metadata": {},
   "outputs": [
    {
     "name": "stdout",
     "output_type": "stream",
     "text": [
      "p=100 :: a1=(-200.00499987500626, 0.004999875006248544), a2=(-200.00499987500626, 0.004999875006249609)\n",
      "p=10000 :: a1=(-20000.000050000002, 5.000000055588316e-05), a2=(-20000.000050000002, 4.9999999874999996e-05)\n",
      "p=1000000 :: a1=(-2000000.0000005001, 5.00003807246685e-07), a2=(-2000000.0000005001, 4.999999999998749e-07)\n",
      "p=10000000 :: a1=(-20000000.000000052, 5.029141902923584e-08), a2=(-20000000.000000052, 4.999999999999987e-08)\n",
      "p=100000000 :: a1=(-200000000.0, 0.0), a2=(-200000000.0, 5e-09)\n"
     ]
    }
   ],
   "source": [
    "import numpy as np\n",
    "\n",
    "pArr = 10 ** np.array([2, 4, 6, 7, 8], dtype='object') # we use dtype='object' to prevent a integer overflow\n",
    "for p in pArr:\n",
    "    a1 = str(alg1(p, 1))\n",
    "    a2 = str(alg2(p, 1))\n",
    "    print(f\"p={p} :: a1={a1}, a2={a2}\")"
   ]
  },
  {
   "cell_type": "markdown",
   "id": "bba32bc7-da51-4e49-8765-164155bf6929",
   "metadata": {},
   "source": [
    "We can deduce that $ alg2 $ is more precise than $ alg1 $ for large $ p $."
   ]
  },
  {
   "attachments": {
    "5a870039-24a1-4a31-94ce-2e6bb6a8a02a.png": {
     "image/png": "[encoded data removed]"
    }
   },
   "cell_type": "markdown",
   "id": "8b4fe3ad-a8ef-4e5d-874e-a21152115af4",
   "metadata": {},
   "source": [
    "# A2)\n",
    "The first step is two implement three functions: The two given and a reference function to compare the results to.\n",
    "![grafik.png](attachment:5a870039-24a1-4a31-94ce-2e6bb6a8a02a.png)"
   ]
  },
  {
   "cell_type": "code",
   "execution_count": 3,
   "id": "17662dcd-fc32-4ce9-b956-8b71aafb64c9",
   "metadata": {},
   "outputs": [],
   "source": [
    "import math\n",
    "\n",
    "def exp_one(x):\n",
    "    ret = 0\n",
    "    for k in range(x[1]+1):\n",
    "        ret+=(x[0]**k)/math.factorial(k)\n",
    "    return ret\n",
    "\n",
    "def exp_two(x):\n",
    "    ret = 0\n",
    "    for k in range(x[1]+1):\n",
    "        ret+=(x[0]**(x[1]-k))/math.factorial(x[1]-k)\n",
    "    return ret\n",
    "\n",
    "def exp_reference(x):\n",
    "    return np.exp(x[0])"
   ]
  },
  {
   "cell_type": "markdown",
   "id": "ffab782b-a5a1-4f03-98ce-bfce2319dd42",
   "metadata": {},
   "source": [
    "The functions expect tuples, the first element being $ x $ and the second one being $ n $."
   ]
  },
  {
   "cell_type": "code",
   "execution_count": 4,
   "id": "d79d1366-9454-4222-ac8f-dbf30582d9c7",
   "metadata": {},
   "outputs": [
    {
     "name": "stdout",
     "output_type": "stream",
     "text": [
      "[2, 100] :: reference=7.38905609893065, exp_one=7.389056098930649, exp_two=7.38905609893065\n",
      "[5, 100] :: reference=148.4131591025766, exp_one=148.41315910257657, exp_two=148.41315910257663\n",
      "[100, 100] :: reference=2.6881171418161356e+43, exp_one=1.41546087210088e+43, exp_two=1.4154608721008796e+43\n",
      "[2, 1000] :: reference=7.38905609893065, exp_one=7.389056098930649, exp_two=7.38905609893065\n",
      "[5, 1000] :: reference=148.4131591025766, exp_one=148.41315910257657, exp_two=148.41315910257663\n",
      "[100, 1000] :: reference=2.6881171418161356e+43, exp_one=2.6881171418161356e+43, exp_two=2.688117141816134e+43\n"
     ]
    }
   ],
   "source": [
    "exp_values=[[2,100],[5,100],[100,100],[2,1000],[5,1000],[100,1000]]\n",
    "for value in exp_values:\n",
    "    ref = exp_reference(value)\n",
    "    res1 = exp_one(value)\n",
    "    res2 = exp_two(value)\n",
    "    print(f\"{str(value)} :: reference={ref}, exp_one={res1}, exp_two={res2}\")"
   ]
  },
  {
   "cell_type": "markdown",
   "id": "dd4d5a7e-41ac-4602-bbb9-1ac8bc502140",
   "metadata": {
    "tags": []
   },
   "source": [
    "# A3)"
   ]
  },
  {
   "attachments": {
    "03af39a3-bc8d-43b8-a5bc-088aa4109b11.png": {
     "image/png": "[encoded data removed]"
    }
   },
   "cell_type": "markdown",
   "id": "1da2c5dd-79cb-45c0-8e66-22615cfbda2a",
   "metadata": {},
   "source": [
    "We start by defining our two functions used in the integrals to be approximated.\n",
    "\n",
    "![grafik.png](attachment:03af39a3-bc8d-43b8-a5bc-088aa4109b11.png)"
   ]
  },
  {
   "cell_type": "code",
   "execution_count": 5,
   "id": "0197a31a-c178-411b-9215-1054bb1b2c5d",
   "metadata": {},
   "outputs": [],
   "source": [
    "import numpy as np\n",
    "\n",
    "def f1(x):\n",
    "    return 1/x**2\n",
    "\n",
    "def f2(x):\n",
    "    return np.log(x)"
   ]
  },
  {
   "attachments": {
    "46cab25f-a8ad-466f-a680-11ab256b4cdc.png": {
     "image/png": "[encoded data removed]"
    },
    "bd1e890e-3c29-4670-8b9e-7efc2f35a930.png": {
     "image/png": "[encoded data removed]"
    }
   },
   "cell_type": "markdown",
   "id": "dda657af-1e7d-44bb-b053-c620c57ab0d6",
   "metadata": {},
   "source": [
    "Next, we define our functions for the different approximation methods. The parameter \"a\" is the lower integration bound and \"b\" the upper one.\n",
    "\n",
    "**approxSum**\n",
    "\n",
    "![grafik.png](attachment:46cab25f-a8ad-466f-a680-11ab256b4cdc.png)\n",
    "\n",
    "\n",
    "**approxTrazepoid**\n",
    "\n",
    "![grafik.png](attachment:bd1e890e-3c29-4670-8b9e-7efc2f35a930.png)"
   ]
  },
  {
   "cell_type": "code",
   "execution_count": 6,
   "id": "19c3b663-6f36-4f46-87b4-baefde48b1bc",
   "metadata": {
    "tags": []
   },
   "outputs": [],
   "source": [
    "def approxSum(f, n, a, b):\n",
    "    h = (b - a) / n\n",
    "    result = 0\n",
    "    for i in range(1, n):\n",
    "        result += f(a + i * h)\n",
    "    return result * h\n",
    "    \n",
    "def approxTrapezoid(f, n, a, b):\n",
    "    h = (b - a) / n\n",
    "    s = 0\n",
    "    for i in range(1, n - 1):\n",
    "        s += f(a + i * h)\n",
    "    return h / 2 * (f(a) + 2*s + f(b))"
   ]
  },
  {
   "cell_type": "markdown",
   "id": "a96f304d-4551-4d24-a448-f93526d4da02",
   "metadata": {},
   "source": [
    "Some tests for different n...\n",
    "\n",
    "We start with $ f1 $."
   ]
  },
  {
   "cell_type": "code",
   "execution_count": 7,
   "id": "fe3bdfa1-4328-47e1-9384-f76f24dd0893",
   "metadata": {
    "tags": []
   },
   "outputs": [
    {
     "name": "stdout",
     "output_type": "stream",
     "text": [
      "n = 100 :: approxSum = 6.3730099957470925, approxTrapezoid = 11.322495098766888\n",
      "n = 200 :: approxSum = 7.8158074787127365, approxTrapezoid = 10.290555041584879\n",
      "n = 300 :: approxSum = 8.427651065744415, approxTrapezoid = 10.077483876915682\n",
      "n = 400 :: approxSum = 8.76326970324692, approxTrapezoid = 10.000644723558587\n",
      "n = 500 :: approxSum = 8.974742238065348, approxTrapezoid = 9.964642451650468\n",
      "n = 600 :: approxSum = 9.12005001960404, approxTrapezoid = 9.94496697375343\n",
      "n = 700 :: approxSum = 9.225991623649676, approxTrapezoid = 9.933063365615741\n",
      "n = 800 :: approxSum = 9.306634200857351, approxTrapezoid = 9.925322019006627\n",
      "n = 900 :: approxSum = 9.370063258010589, approxTrapezoid = 9.920008015610701\n",
      "n = 1000 :: approxSum = 9.421253684950496, approxTrapezoid = 9.91620398863902\n"
     ]
    }
   ],
   "source": [
    "for n in range(100, 1001, 100):\n",
    "    resApproxSum = approxSum(f1, n, 1/10, 10)\n",
    "    resApproxTrapezoid = approxTrapezoid(f1, n, 1/10, 10)\n",
    "    print(f\"n = {n} :: approxSum = {resApproxSum}, approxTrapezoid = {resApproxTrapezoid}\")\n",
    "    "
   ]
  },
  {
   "cell_type": "markdown",
   "id": "9c59ece2-7b28-4ac5-8ced-2c72df556f5c",
   "metadata": {},
   "source": [
    "And here goes $ f2 $."
   ]
  },
  {
   "cell_type": "code",
   "execution_count": 8,
   "id": "4fb50b43-d8e8-4e80-bb79-6a8708151e83",
   "metadata": {
    "tags": []
   },
   "outputs": [
    {
     "name": "stdout",
     "output_type": "stream",
     "text": [
      "n = 100 :: approxSum = 0.38282445857472897, approxTrapezoid = 0.3794088480901647\n",
      "n = 200 :: approxSum = 0.3845604515033433, approxTrapezoid = 0.38284009920303397\n",
      "n = 300 :: approxSum = 0.38513865285629445, approxTrapezoid = 0.3839889677456969\n",
      "n = 400 :: approxSum = 0.3854276667276191, approxTrapezoid = 0.3845643597066733\n",
      "n = 500 :: approxSum = 0.385601047272703, approxTrapezoid = 0.38490990109281026\n",
      "n = 600 :: approxSum = 0.3857166227287023, approxTrapezoid = 0.38514038954614993\n",
      "n = 700 :: approxSum = 0.38579917095691585, approxTrapezoid = 0.3853050866007128\n",
      "n = 800 :: approxSum = 0.38586107902788014, approxTrapezoid = 0.3854286435342726\n",
      "n = 900 :: approxSum = 0.38590922791258736, approxTrapezoid = 0.38552476360109156\n",
      "n = 1000 :: approxSum = 0.3859477458629464, approxTrapezoid = 0.38560167239770804\n"
     ]
    }
   ],
   "source": [
    "for n in range(100, 1001, 100):\n",
    "    resApproxSum = approxSum(f2, n, 1, 2)\n",
    "    resApproxTrapezoid = approxTrapezoid(f2, n, 1, 2)\n",
    "    print(f\"n = {n} :: approxSum = {resApproxSum}, approxTrapezoid = {resApproxTrapezoid}\")"
   ]
  },
  {
   "attachments": {
    "853eb0a0-4b98-46d7-9243-7d23c738f51e.png": {
     "image/png": "[encoded data removed]"
    }
   },
   "cell_type": "markdown",
   "id": "809f71fe-9e9b-40ee-ad4e-29ef6a36c58b",
   "metadata": {
    "tags": []
   },
   "source": [
    "# A4\n",
    "![grafik.png](attachment:853eb0a0-4b98-46d7-9243-7d23c738f51e.png)"
   ]
  },
  {
   "cell_type": "code",
   "execution_count": 9,
   "id": "ae74c12e-44e5-4953-a460-cd7f17533e01",
   "metadata": {
    "tags": []
   },
   "outputs": [],
   "source": [
    "import numpy as np\n",
    "\n",
    "def approxTrapezoidVec(f, n, a, b):\n",
    "    h = (b - a) / n\n",
    "    vf1 = np.vectorize(f1)\n",
    "    x = np.linspace(a, b, n + 1)\n",
    "    s = np.sum(vf1(x))\n",
    "    return h / 2 * (f(a) + 2*s + f(b))"
   ]
  },
  {
   "cell_type": "markdown",
   "id": "e5f232d8-b138-4983-a8db-fc08e2774649",
   "metadata": {},
   "source": [
    "Some tests..."
   ]
  },
  {
   "cell_type": "code",
   "execution_count": 10,
   "id": "a06eff6d-c93f-4687-b0ab-09f0efb3e0bc",
   "metadata": {
    "tags": []
   },
   "outputs": [
    {
     "name": "stdout",
     "output_type": "stream",
     "text": [
      "n = 100 :: approxTrapezoidVec = 11.322495098766888\n",
      "n = 200 :: approxTrapezoidVec = 10.290555041584879\n",
      "n = 300 :: approxTrapezoidVec = 10.077483876915682\n",
      "n = 400 :: approxTrapezoidVec = 10.000644723558587\n",
      "n = 500 :: approxTrapezoidVec = 9.964642451650468\n",
      "n = 600 :: approxTrapezoidVec = 9.94496697375343\n",
      "n = 700 :: approxTrapezoidVec = 9.933063365615741\n",
      "n = 800 :: approxTrapezoidVec = 9.925322019006627\n",
      "n = 900 :: approxTrapezoidVec = 9.920008015610701\n",
      "n = 1000 :: approxTrapezoidVec = 9.91620398863902\n"
     ]
    }
   ],
   "source": [
    "for n in range(100, 1001, 100):\n",
    "    resApproxTrapezoidVec = approxTrapezoid(f1, n, 1/10, 10)\n",
    "    print(f\"n = {n} :: approxTrapezoidVec = {resApproxTrapezoidVec}\")"
   ]
  },
  {
   "cell_type": "markdown",
   "id": "2d0dbe09-114c-401f-b8df-11acfc97a4d9",
   "metadata": {
    "tags": []
   },
   "source": [
    "# A5\n",
    "\n",
    "$ f(x) = \\sqrt{x} $\n",
    "\n",
    "$ f^{(1)}(x) = \\frac{1}{2x^\\frac{1}{2}} $\n",
    "\n",
    "$ f^{(2)}(x) = -\\frac{1}{4x^\\frac{3}{2}} $\n",
    "\n",
    "$ f^{(3)}(x) = \\frac{3}{8x^\\frac{5}{2}} $\n",
    "\n",
    "$ => f^{(n)}(x)= \\prod_{k=1}^{n-1} \\frac{(-1)^{n-1}(2k-1)}{2^n}x^{-\\frac{2n-1}{2}} $\n",
    "\n",
    "Thus we can conclude that the Taylor approximation can be expressed in Python like this:"
   ]
  },
  {
   "cell_type": "code",
   "execution_count": 11,
   "id": "d4de2ebe-1f4c-4da8-8439-d252cde9a6cf",
   "metadata": {},
   "outputs": [],
   "source": [
    "import math\n",
    "\n",
    "def calc_sqrt_taylor(x, x0, n) -> float:\n",
    "    expected = math.sqrt(x)\n",
    "    printed = False\n",
    "    a = [math.sqrt(x0)]\n",
    "    y = [a[0]]\n",
    "    for i in range(1, n+1):\n",
    "        a.append((3/(2*i)-1) * (x/x0-1) * a[i-1])\n",
    "        y.append(y[i-1] + a[i])\n",
    "\n",
    "        if not printed and abs(y[i] - expected) < 0.005:\n",
    "            print(f\"Iterations using Taylor needed to reach a precision of 0.005: {i}\")\n",
    "            printed = True\n",
    "    \n",
    "    return y[-1]"
   ]
  },
  {
   "cell_type": "markdown",
   "id": "680ac3ec-475e-422c-84cd-67a119a9508d",
   "metadata": {},
   "source": [
    "The Heron approximation looks like this:"
   ]
  },
  {
   "cell_type": "code",
   "execution_count": 12,
   "id": "5155b214-bc6a-4174-b0fc-ff9c70822411",
   "metadata": {},
   "outputs": [],
   "source": [
    "import math                                                               \n",
    "\n",
    "def calc_sqrt_heron(x, y0, n) -> float:\n",
    "    expected = math.sqrt(x)\n",
    "    y = [y0]\n",
    "    printed = False\n",
    "    for i in range(n):\n",
    "        y.append(1/2*(y[i-1] + x/y[i-1]))\n",
    "        \n",
    "        if not printed and abs(y[i] - expected) < 0.005:\n",
    "            print(f\"Iterations using Heron needed to reach a precision of 0.005: {i}\")\n",
    "            printed = True\n",
    "\n",
    "    return y[-1]"
   ]
  },
  {
   "cell_type": "markdown",
   "id": "de4c3dc5-2c51-4af9-bc33-6d61ceff0d1e",
   "metadata": {},
   "source": [
    "We call the functions, which have the side effect of printing the iterations needed to reach the 0.005 precision threshold and will return the result."
   ]
  },
  {
   "cell_type": "code",
   "execution_count": 13,
   "id": "aa15a6ab-ba44-4971-a2c7-afa8e5b1326d",
   "metadata": {},
   "outputs": [
    {
     "name": "stdout",
     "output_type": "stream",
     "text": [
      "Iterations using Taylor needed to reach a precision of 0.005: 11\n",
      "Iterations using Heron needed to reach a precision of 0.005: 7\n",
      "res_taylor = 1.0000000898557038\n",
      "res_heron  = 1.0\n"
     ]
    }
   ],
   "source": [
    "res_taylor = calc_sqrt_taylor(1, 5, 50)\n",
    "res_heron = calc_sqrt_heron(1, 5, 50)\n",
    "print(f\"res_taylor = {res_taylor}\")\n",
    "print(f\"res_heron  = {res_heron}\")"
   ]
  }
 ],
 "metadata": {
  "kernelspec": {
   "display_name": "Python 3 (ipykernel)",
   "language": "python",
   "name": "python3"
  },
  "language_info": {
   "codemirror_mode": {
    "name": "ipython",
    "version": 3
   },
   "file_extension": ".py",
   "mimetype": "text/x-python",
   "name": "python",
   "nbconvert_exporter": "python",
   "pygments_lexer": "ipython3",
   "version": "3.9.7"
  }
 },
 "nbformat": 4,
 "nbformat_minor": 5
}
