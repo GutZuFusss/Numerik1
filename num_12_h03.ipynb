{
 "cells": [
  {
   "cell_type": "markdown",
   "metadata": {},
   "source": [
    "# A1)\n",
    "## a)\n",
    "\n",
    "$ \\lVert Ax\\rVert_1 = \\sum\\limits_{i=1}^{n} \\lvert{{\\sum\\limits_{j=1}^{n} a_{ij}x_j}}\\rvert $\n",
    "\n",
    "$ \\leq \\sum\\limits_{i=1}^{n} {\\sum\\limits_{j=1}^{n} | a_{ij} | | x_j} | = \\sum\\limits_{i=1}^{n} | x_j | {\\sum\\limits_{j=1}^{n} | a_{ij}} | $\n",
    "\n",
    "$ \\leq \\sum\\limits_{i=1}^{n} | x_j | {max}_{k=1,...,n} \\sum\\limits_{i=1}^{n} | a_{ik} | = \\lVert x\\rVert_1 {max}_{k=1,...,n} \\sum\\limits_{i=1}^{n}$\n",
    "\n",
    "$ \\implies \\lVert A\\rVert_1 \\leq {max}_{k=1,...,n} \\sum\\limits_{i+1}^{n} |a_{ik}| \\qquad\\qquad\\qquad\\qquad\\qquad\\quad (1) $\n",
    "\n",
    "Sei $ h^* $ die Spalte mit der max. Spartensumme:\n",
    "\n",
    "$ \\implies x_0 = e_{h^*} $\n",
    "\n",
    "$ \\implies \\lVert A_{x_{0}}\\rVert_1 = max_{h=1,...,n} \\sum\\limits_{i=1}^{n} | a_{ik} | $\n",
    "\n",
    "$ \\implies \\lVert A\\rVert_1 \\geq \\frac{\\lVert A_{x_{0}}\\rVert_1}{\\lVert x_0\\rVert_1} = {max}_{l=1,...,n} \\sum\\limits_{i=1}^{n}  \\qquad\\qquad\\qquad\\qquad\\qquad (2) $\n",
    "\n",
    "Aus (1) und (2) $ \\implies \\lVert A\\rVert_1 = {max}_{l=1,...,n} \\sum\\limits_{i=1}^{n} |a_{ij}| $\n",
    "\n",
    "## b)\n",
    "\n",
    "$ \\lVert A_x\\rVert_\\infty = max_{i=1,...,n}\\ |\\sum\\limits_{j=1}^{n}a_{ij}x_j | $\n",
    "\n",
    "$ \\leq max_{i=1,...,n} \\sum\\limits_{j=1}^{n}|a_{ij}|\\ |x_j| $\n",
    "\n",
    "$ \\leq max_{i=1,...,n} \\sum\\limits_{j=1}^{n} |a_{ij}|\\ \\lVert x\\rVert_\\infty $\n",
    "\n",
    "$ \\implies \\lVert A\\rVert_\\infty \\leq max_{i=1,...,n} \\sum\\limits_{j=1}^{n} |a_{ij}| \\qquad\\qquad\\qquad\\qquad\\qquad\\quad (1) $\n",
    "\n",
    "Sei $ x_0 = (1,1,...,1)^T $\n",
    "\n",
    "$ \\lVert A_{x_0}\\rVert_\\infty = max_{i=1,...,n} \\sum\\limits_{j=1}^{n} |a_{ij}{x_0}_j| = max_{i=1,...,n} \\sum\\limits_{j=1}^{n} |a_{ij}| \\qquad\\qquad (2) $\n",
    "\n",
    "Aus (1) und (2) $ \\implies \\lVert A\\rVert_\\infty = max_{i=1,...,n} \\sum\\limits_{j=1}^{n} |a_{ij}| $"
   ]
  },
  {
   "cell_type": "markdown",
   "metadata": {},
   "source": [
    "# A2)"
   ]
  },
  {
   "cell_type": "markdown",
   "metadata": {},
   "source": [
    "# A3)\n",
    "\n",
    "$ f(x_1,x_2) = \\frac{x_1}{x_2},\\quad x_1=1,\\ x_2=10^{-4} $\n",
    "\n",
    "Using differential error analysis to approximate $ \\varkappa_a$.\n",
    "\n",
    "$ f'(x_1, x_2) = \\begin{pmatrix}\n",
    "\\frac{1}{x_2} & -\\frac{x_1}{x_2^2} \\\\\n",
    "\\end{pmatrix}\\ $"
   ]
  }
 ],
 "metadata": {
  "kernelspec": {
   "display_name": "Python 3",
   "language": "python",
   "name": "python3"
  },
  "language_info": {
   "codemirror_mode": {
    "name": "ipython",
    "version": 3
   },
   "file_extension": ".py",
   "mimetype": "text/x-python",
   "name": "python",
   "nbconvert_exporter": "python",
   "pygments_lexer": "ipython3",
   "version": "3.8.5"
  }
 },
 "nbformat": 4,
 "nbformat_minor": 5
}
