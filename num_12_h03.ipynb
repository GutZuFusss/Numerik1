{
 "cells": [
  {
   "cell_type": "markdown",
   "id": "d9e7ffd7-5433-4fa5-a0c9-68349549bf20",
   "metadata": {},
   "source": [
    "# A1)\n",
    "\n",
    "$ A =  $"
   ]
  },
  {
   "cell_type": "markdown",
   "id": "a53e0217-03bd-4a5c-b384-c7d80de6714a",
   "metadata": {},
   "source": [
    "# A2)"
   ]
  },
  {
   "cell_type": "markdown",
   "id": "7150b769-d780-48a9-8d09-fca4d28fef58",
   "metadata": {},
   "source": [
    "# A3)\n",
    "\n",
    "$ f(x_1,x_2) = \\frac{x_1}{x_2},\\quad x_1=1,\\ x_2=10^{-4} $\n",
    "\n",
    "Using differential error analysis to approximate $ \\varkappa_a$.\n",
    "\n",
    "$ f'(x_1, x_2) = $"
   ]
  }
 ],
 "metadata": {
  "kernelspec": {
   "display_name": "Python 3 (ipykernel)",
   "language": "python",
   "name": "python3"
  },
  "language_info": {
   "codemirror_mode": {
    "name": "ipython",
    "version": 3
   },
   "file_extension": ".py",
   "mimetype": "text/x-python",
   "name": "python",
   "nbconvert_exporter": "python",
   "pygments_lexer": "ipython3",
   "version": "3.9.7"
  }
 },
 "nbformat": 4,
 "nbformat_minor": 5
}
